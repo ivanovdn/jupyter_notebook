{
 "cells": [
  {
   "cell_type": "code",
   "execution_count": 1,
   "metadata": {
    "collapsed": true
   },
   "outputs": [],
   "source": [
    "import rpy2.robjects\n",
    "from rpy2.robjects.packages import importr\n",
    "import pandas as pd\n",
    "from openpyxl import load_workbook\n",
    "\n",
    "import warnings\n",
    "warnings.filterwarnings('ignore')"
   ]
  },
  {
   "cell_type": "code",
   "execution_count": 2,
   "metadata": {
    "collapsed": true
   },
   "outputs": [],
   "source": [
    "markets = ['RU', 'UA', 'KZ', 'GE']\n",
    "start, end = '2017-08-21', '2017-08-27'\n",
    "year = 2017\n",
    "campaign = 'C12'\n",
    "week = 'Week 2'\n",
    "segment_name_RU = '(C12-17) Exclude HIGH Fraud Orders'"
   ]
  },
  {
   "cell_type": "code",
   "execution_count": 3,
   "metadata": {
    "collapsed": true
   },
   "outputs": [],
   "source": [
    "%load_ext rpy2.ipython"
   ]
  },
  {
   "cell_type": "code",
   "execution_count": 4,
   "metadata": {},
   "outputs": [
    {
     "data": {
      "text/plain": [
       "rpy2.robjects.packages.Package as a <module 'httr' (built-in)>"
      ]
     },
     "execution_count": 4,
     "metadata": {},
     "output_type": "execute_result"
    }
   ],
   "source": [
    "importr('RSiteCatalyst', '.../R/win-library/3.4')\n",
    "importr('curl', '...R/win-library/3.4')\n",
    "importr('httr', '...R/win-library/3.4')"
   ]
  },
  {
   "cell_type": "code",
   "execution_count": 5,
   "metadata": {
    "collapsed": true
   },
   "outputs": [],
   "source": [
    "%Rpush start end segment_name_RU"
   ]
  },
  {
   "cell_type": "code",
   "execution_count": 6,
   "metadata": {
    "collapsed": true
   },
   "outputs": [],
   "source": [
    "%%R\n",
    "\n",
    "#This line is needed to make RSiteCatalyst work in IPython\n",
    "set_config( config( ssl_verifypeer = 0L ) )\n",
    "\n",
    "#Authenticate into Sitecat API (Enter your Credentials Here)\n",
    "SCAuth(login, pass)\n",
    "\n",
    "suites <- c(suite1, suite2, suite3, suite4)\n",
    "\n",
    "report_new <- data.frame()\n",
    "\n",
    "for (suite in suites) {\n",
    "  if (suite == 'avonrusdce-prod'){\n",
    "    report <- QueueOvertime(suite, start, end, metrics = c('orders', 'revenue'),\n",
    "                            segment.id = subset(GetSegments('avonrusdce-prod'), \n",
    "                                                name == segment_name_RU, \n",
    "                                                select = id),\n",
    "                            date.granularity = 'day')\n",
    "  } else {\n",
    "    report <- QueueOvertime(suite, start, end, metrics = c('orders', 'revenue'),\n",
    "                            date.granularity = 'day')\n",
    "  }\n",
    "  \n",
    "  report_new <- rbind(report_new, report)\n",
    "}"
   ]
  },
  {
   "cell_type": "code",
   "execution_count": 7,
   "metadata": {
    "collapsed": true
   },
   "outputs": [],
   "source": [
    "%Rpull report_new"
   ]
  },
  {
   "cell_type": "code",
   "execution_count": 8,
   "metadata": {
    "collapsed": true
   },
   "outputs": [],
   "source": [
    "x, y = 0, 7\n",
    "\n",
    "for market in markets:\n",
    "    df = pd.read_excel('..xlsx', sheetname=market)\n",
    "    df.loc[(df.Year == year) & (df.Camp == campaign) & (df.Week == week), 'Ord.F'] = report_new.orders[x:y].sum()\n",
    "    df.loc[(df.Year == year) & (df.Camp == campaign) & (df.Week == week), 'Rev.F'] = report_new.revenue[x:y].sum()\n",
    "    df.loc[(df.Year == year) & (df.Camp == campaign) & (df.Week == week), 'AVO.F'] = report_new.revenue[x:y].sum() / report_new.orders[x:y].sum()\n",
    "    \n",
    "    book = load_workbook('..xlsx')\n",
    "    writer = pd.ExcelWriter('..xlsx', engine='openpyxl') \n",
    "    writer.book = book\n",
    "    writer.sheets = dict((ws.title, ws) for ws in book.worksheets)\n",
    "    df.to_excel(writer, market, index=False)\n",
    "    writer.save()\n",
    "    \n",
    "    x += 7\n",
    "    y += 7"
   ]
  }
 ],
 "metadata": {
  "kernelspec": {
   "display_name": "Python [default]",
   "language": "python",
   "name": "python2"
  },
  "language_info": {
   "codemirror_mode": {
    "name": "ipython",
    "version": 2
   },
   "file_extension": ".py",
   "mimetype": "text/x-python",
   "name": "python",
   "nbconvert_exporter": "python",
   "pygments_lexer": "ipython2",
   "version": "2.7.13"
  }
 },
 "nbformat": 4,
 "nbformat_minor": 2
}
